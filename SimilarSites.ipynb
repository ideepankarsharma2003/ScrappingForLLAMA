{
 "cells": [
  {
   "cell_type": "code",
   "execution_count": 1,
   "metadata": {},
   "outputs": [],
   "source": [
    "import requests\n",
    "from bs4 import BeautifulSoup\n",
    "from urllib.parse import urlparse\n",
    "\n",
    "def get_similar_websites(input_url, num_similar_sites=5):\n",
    "    base_url = urlparse(input_url).netloc\n",
    "    \n",
    "    response = requests.get(input_url)\n",
    "    if response.status_code != 200:\n",
    "        print(\"Error: Unable to fetch the webpage.\")\n",
    "        return\n",
    "    \n",
    "    soup = BeautifulSoup(response.text, 'html.parser')\n",
    "    links = soup.find_all('a', href=True)\n",
    "    \n",
    "    similar_sites = []\n",
    "    \n",
    "    for link in links:\n",
    "        href = link.get('href')\n",
    "        if href and urlparse(href).netloc != \"\":\n",
    "            similar_sites.append(urlparse(href).netloc)\n",
    "    \n",
    "    similar_sites = list(set(similar_sites))\n",
    "    similar_sites = [site for site in similar_sites if base_url not in site]\n",
    "    \n",
    "    return similar_sites[:num_similar_sites]\n",
    "\n",
    "\n"
   ]
  },
  {
   "cell_type": "code",
   "execution_count": 5,
   "metadata": {},
   "outputs": [],
   "source": [
    "import requests\n",
    "from bs4 import BeautifulSoup\n",
    "\n",
    "def get_similar_competitors(url):\n",
    "    try:\n",
    "        response = requests.get(url)\n",
    "        if response.status_code == 200:\n",
    "            soup = BeautifulSoup(response.content, 'html.parser')\n",
    "            competitor_links = []\n",
    "\n",
    "            # Modify this logic to match the specific HTML structure of the website\n",
    "            for link in soup.find_all('a'):\n",
    "                href = link.get('href')\n",
    "                if href and 'competitor' in href:  # You can adjust the condition as needed\n",
    "                    competitor_links.append(href)\n",
    "\n",
    "            return competitor_links\n",
    "        else:\n",
    "            print(f\"Failed to fetch website: {url}\")\n",
    "            return None\n",
    "    except Exception as e:\n",
    "        print(f\"An error occurred: {e}\")\n",
    "        return None\n",
    "\n"
   ]
  },
  {
   "cell_type": "code",
   "execution_count": 9,
   "metadata": {},
   "outputs": [
    {
     "name": "stdout",
     "output_type": "stream",
     "text": [
      "Similar websites:\n",
      "www.forbesindia.com\n",
      "subs.forbesmagazine.com\n",
      "www.forbesafricalusofona.com\n",
      "forbesbooksaudio.com\n",
      "www.forbes.fr\n",
      "www.forbes.pl\n",
      "www.facebook.com\n",
      "jmagazine.joins.com\n",
      "forbes.jobs\n",
      "www.forbesmedia.com\n"
     ]
    }
   ],
   "source": [
    "input_url = 'https://huggingface.co/WizardLM/WizardLM-70B-V1.0'\n",
    "input_url = 'https://medium.com/@bnjmn_marie/quantization-of-llama-2-with-gtpq-for-fast-inference-on-your-computer-a6eff6ccde59'\n",
    "input_url= 'https://www.forbes.com/?sh=17ab7c7d2254'\n",
    "\n",
    "\n",
    "similar_websites = get_similar_websites(input_url, 10)\n",
    "\n",
    "print(\"Similar websites:\")\n",
    "for site in similar_websites:\n",
    "    print(site)"
   ]
  },
  {
   "cell_type": "code",
   "execution_count": 7,
   "metadata": {},
   "outputs": [],
   "source": [
    "website_url = 'https://huggingface.co/WizardLM/WizardLM-70B-V1.0'\n",
    "\n",
    "\n",
    "competitors = get_similar_competitors(website_url)\n",
    "\n",
    "if competitors:\n",
    "    print(\"Similar competitor websites:\")\n",
    "    for competitor in competitors:\n",
    "        print(competitor)"
   ]
  },
  {
   "cell_type": "code",
   "execution_count": null,
   "metadata": {},
   "outputs": [],
   "source": []
  }
 ],
 "metadata": {
  "kernelspec": {
   "display_name": "venv",
   "language": "python",
   "name": "python3"
  },
  "language_info": {
   "codemirror_mode": {
    "name": "ipython",
    "version": 3
   },
   "file_extension": ".py",
   "mimetype": "text/x-python",
   "name": "python",
   "nbconvert_exporter": "python",
   "pygments_lexer": "ipython3",
   "version": "3.10.12"
  },
  "orig_nbformat": 4
 },
 "nbformat": 4,
 "nbformat_minor": 2
}
